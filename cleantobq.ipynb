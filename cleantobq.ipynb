{
 "cells": [
  {
   "cell_type": "markdown",
   "metadata": {},
   "source": [
    "THIS IS A BIG DATA PROJECT ASSIGNMENT WITH A GOAL TO CREATE A SELF SUSTAINING DATA FLOW SYSTEM \n",
    "PROVIDING METRICS TO THE USERS.\n",
    "- Downloading files from cloud storage, and cleaning them. \n",
    "- using cli upload files to bigquery for data visualisation and ML"
   ]
  },
  {
   "cell_type": "code",
   "execution_count": null,
   "metadata": {},
   "outputs": [],
   "source": [
    "#load packages\n",
    "import requests\n",
    "import requests_oauthlib\n",
    "import pandas as pd \n",
    "import numpy as np \n",
    "\n"
   ]
  },
  {
   "cell_type": "code",
   "execution_count": null,
   "metadata": {},
   "outputs": [],
   "source": [
    "# Load the CSV file\n",
    "file_path = \"insert all countries file\" #cleaned_data_merged.csv\n",
    "data = pd.read_csv(file_path)\n",
    "data.columns\n"
   ]
  },
  {
   "cell_type": "code",
   "execution_count": null,
   "metadata": {},
   "outputs": [],
   "source": [
    "# Convert the problematic column to integers\n",
    "column_name = \"cumulative_total_deaths\"  # Replace with the actual column name\n",
    "data[column_name] = pd.to_numeric(data[column_name], errors='coerce').fillna(0).astype(int)\n",
    "\n",
    "# Save the cleaned file\n",
    "cleaned_file_path = \"cleaned_data_merged_fixed.csv\"\n",
    "data.to_csv(cleaned_file_path, index=False)\n",
    "\n",
    "print(\"File cleaned and saved as:\", cleaned_file_path)"
   ]
  },
  {
   "cell_type": "markdown",
   "metadata": {},
   "source": [
    "--cleaning fikle states. "
   ]
  },
  {
   "cell_type": "code",
   "execution_count": null,
   "metadata": {},
   "outputs": [],
   "source": [
    "#load data\n",
    "file = \"insert_state data file\"\n",
    "df = pd.read_csv(file)\n",
    "df.shape\n",
    "#df.columns"
   ]
  },
  {
   "cell_type": "code",
   "execution_count": null,
   "metadata": {},
   "outputs": [],
   "source": [
    "#clean all state file\n",
    "numeric_cols = df.select_dtypes(include=['number']).columns\n",
    "numeric_cols\n",
    "\n",
    "#numerical cols\n",
    "df[numeric_cols] = df.groupby('state')[numeric_cols].transform(lambda x: x.fillna(x.mean()))\n",
    "#fill back with col mean\n",
    "for col in numeric_cols:\n",
    "    if df[col].isnull().any():\n",
    "        overall_mean = round(df[col].mean())\n",
    "        df[col] = df[col].fillna(overall_mean).astype(int)\n",
    "    \n",
    "df[numeric_cols] = df[numeric_cols].astype(int)\n",
    "\n",
    "#categorical cols\n",
    "categorical_cols = df.select_dtypes(include=['object', 'category']).columns\n",
    "for col in categorical_cols:\n",
    "    df[col] = df.groupby('state')[col].transform(lambda x: x.fillna(x.mode()[0] if not x.mode().empty else 'Unknown'))\n"
   ]
  },
  {
   "cell_type": "code",
   "execution_count": null,
   "metadata": {},
   "outputs": [],
   "source": [
    "#save all state final file\n",
    "print(df.isnull().sum())\n",
    "df.to_csv('AllStateHistory_clean.csv', index=False)"
   ]
  },
  {
   "cell_type": "markdown",
   "metadata": {},
   "source": [
    "-------------END -----------"
   ]
  }
 ],
 "metadata": {
  "kernelspec": {
   "display_name": "cloud",
   "language": "python",
   "name": "python3"
  },
  "language_info": {
   "codemirror_mode": {
    "name": "ipython",
    "version": 3
   },
   "file_extension": ".py",
   "mimetype": "text/x-python",
   "name": "python",
   "nbconvert_exporter": "python",
   "pygments_lexer": "ipython3",
   "version": "3.13.0"
  }
 },
 "nbformat": 4,
 "nbformat_minor": 2
}
